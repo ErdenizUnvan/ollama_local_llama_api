{
 "cells": [
  {
   "cell_type": "code",
   "execution_count": 1,
   "id": "4c21dde8",
   "metadata": {},
   "outputs": [
    {
     "name": "stdout",
     "output_type": "stream",
     "text": [
      "What is the meaning of life?\n",
      "{'response': {'text': \"The question of the meaning of life is one of the most profound and enduring questions humanity has ever posed. While there may not be a single, definitive answer, here are some perspectives to consider:\\n\\n1. **Subjective experience**: The meaning of life can be personal and subjective. It's what gives your life purpose, direction, and fulfillment. For some, it might be found in relationships, creative pursuits, or personal growth.\\n2. **Religious or spiritual beliefs**: Many religions and spiritual traditions offer their own answers to the meaning of life. For example, some believe that the ultimate goal is to achieve enlightenment, become one with a higher power, or follow a set of moral guidelines.\\n3. **Philosophical perspectives**: Philosophers have long debated the nature of reality, existence, and human experience. Some possible approaches include:\\n * **Existentialism**: Life has no inherent meaning; we create our own purpose through choices and actions.\\n * **Hedonism**: The pursuit of pleasure and happiness is the key to a fulfilling life.\\n * **Utilitarianism**: The goal is to maximize overall well-being and happiness for the greatest number of people.\\n4. **Scientific perspective**: From a scientific standpoint, life can be seen as an emergent property of complex systems. Our existence might be attributed to chance, evolution, or other natural processes.\\n5. **Absurdism**: Life's meaninglessness is inherent; we must find ways to create our own purpose and significance despite this reality.\\n\\nUltimately, the meaning of life is a deeply personal question that each individual must answer for themselves. What gives your life meaning?\"}}\n"
     ]
    }
   ],
   "source": [
    "import requests\n",
    "url='http://127.0.0.1:8000/ai/predict'\n",
    "query=input('')\n",
    "query_params={'query':query}\n",
    "response=requests.get(url,params=query_params)\n",
    "print(response.json())"
   ]
  },
  {
   "cell_type": "code",
   "execution_count": 2,
   "id": "03bc4454",
   "metadata": {},
   "outputs": [
    {
     "name": "stdout",
     "output_type": "stream",
     "text": [
      "The question of the meaning of life is one of the most profound and enduring questions humanity has ever posed. While there may not be a single, definitive answer, here are some perspectives to consider:\n",
      "\n",
      "1. **Subjective experience**: The meaning of life can be personal and subjective. It's what gives your life purpose, direction, and fulfillment. For some, it might be found in relationships, creative pursuits, or personal growth.\n",
      "2. **Religious or spiritual beliefs**: Many religions and spiritual traditions offer their own answers to the meaning of life. For example, some believe that the ultimate goal is to achieve enlightenment, become one with a higher power, or follow a set of moral guidelines.\n",
      "3. **Philosophical perspectives**: Philosophers have long debated the nature of reality, existence, and human experience. Some possible approaches include:\n",
      " * **Existentialism**: Life has no inherent meaning; we create our own purpose through choices and actions.\n",
      " * **Hedonism**: The pursuit of pleasure and happiness is the key to a fulfilling life.\n",
      " * **Utilitarianism**: The goal is to maximize overall well-being and happiness for the greatest number of people.\n",
      "4. **Scientific perspective**: From a scientific standpoint, life can be seen as an emergent property of complex systems. Our existence might be attributed to chance, evolution, or other natural processes.\n",
      "5. **Absurdism**: Life's meaninglessness is inherent; we must find ways to create our own purpose and significance despite this reality.\n",
      "\n",
      "Ultimately, the meaning of life is a deeply personal question that each individual must answer for themselves. What gives your life meaning?\n"
     ]
    }
   ],
   "source": [
    "print(response.json()['response']['text'])"
   ]
  },
  {
   "cell_type": "code",
   "execution_count": null,
   "id": "907c5d52",
   "metadata": {},
   "outputs": [],
   "source": []
  }
 ],
 "metadata": {
  "kernelspec": {
   "display_name": "Python 3 (ipykernel)",
   "language": "python",
   "name": "python3"
  },
  "language_info": {
   "codemirror_mode": {
    "name": "ipython",
    "version": 3
   },
   "file_extension": ".py",
   "mimetype": "text/x-python",
   "name": "python",
   "nbconvert_exporter": "python",
   "pygments_lexer": "ipython3",
   "version": "3.11.10"
  }
 },
 "nbformat": 4,
 "nbformat_minor": 5
}
